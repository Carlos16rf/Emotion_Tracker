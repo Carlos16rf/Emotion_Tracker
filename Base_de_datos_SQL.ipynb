{
 "cells": [
  {
   "cell_type": "code",
   "execution_count": null,
   "id": "fb8b08a7",
   "metadata": {},
   "outputs": [],
   "source": [
    "import pyodbc\n",
    "server ='LAPTOP-6GH1OKFQ'\n",
    "\n",
    "#LLevamos a cabo la conexión\n",
    "conexion = pyodbc.connect(driver = '{SQL server}',host=server)\n",
    "\n",
    "print('conexion exitosa')\n",
    "##Creación\n",
    "cursor=conexion.cursor()\n",
    "cursor.execute('CREATE DATABASE EMOTIONS')"
   ]
  },
  {
   "cell_type": "code",
   "execution_count": null,
   "id": "ab8c3a17",
   "metadata": {},
   "outputs": [],
   "source": [
    "database = 'EMOTIONS'\n",
    "\n",
    "# Establecer conexión con la base de datos\n",
    "conn = pyodbc.connect(driver='{SQL Server}', server=server, database=database)\n",
    "\n",
    "# Crear la tabla Emotions si no existe\n",
    "cursor = conn.cursor()\n",
    "# Alterar la tabla Emotions para agregar una nueva columna llamada Gender\n",
    "cursor.execute('''\n",
    "               IF NOT EXISTS (SELECT * FROM INFORMATION_SCHEMA.TABLES WHERE TABLE_NAME = 'Emotions')\n",
    "               CREATE TABLE Emotions (\n",
    "                   ID INT PRIMARY KEY IDENTITY,\n",
    "                   Emotion NVARCHAR(50),\n",
    "                   Gender NVARCHAR(50),\n",
    "                   CreatedAt DATETIME\n",
    "               )\n",
    "               ''')\n",
    "conn.commit()"
   ]
  },
  {
   "cell_type": "code",
   "execution_count": null,
   "id": "43cbe191",
   "metadata": {},
   "outputs": [],
   "source": [
    "database = 'EMOTIONS'\n",
    "\n",
    "# Establecer conexión con la base de datos\n",
    "conn = pyodbc.connect(driver='{SQL Server}', server=server, database=database)\n",
    "cursor = conn.cursor()\n",
    "\n",
    "# Verificar si la tabla ya existe antes de crearla\n",
    "cursor.execute('''\n",
    "               IF NOT EXISTS (SELECT * FROM INFORMATION_SCHEMA.TABLES WHERE TABLE_NAME = 'Workers')\n",
    "               CREATE TABLE Workers (\n",
    "                   TrabajadorID INT PRIMARY KEY,\n",
    "                   Nombre NVARCHAR(100)\n",
    "               );\n",
    "               ''')\n",
    "\n",
    "# Insertar los datos en la tabla Workers\n",
    "cursor.executemany(\"INSERT INTO Workers (TrabajadorID, Nombre) VALUES (?, ?)\", [\n",
    "    (1, 'Carlos'),\n",
    "    (2, 'Ana'),\n",
    "    (3, 'Juan'),\n",
    "    (4, 'María'),\n",
    "    (5, 'Pedro'),\n",
    "    (6, 'Laura'),\n",
    "    (7, 'David'),\n",
    "    (8, 'Sofía'),\n",
    "    (9, 'Alejandro'),\n",
    "    (10, 'Elena')\n",
    "])\n",
    "\n",
    "# Confirmar los cambios en la base de datos\n",
    "conn.commit()\n"
   ]
  }
 ],
 "metadata": {
  "kernelspec": {
   "display_name": "Python 3 (ipykernel)",
   "language": "python",
   "name": "python3"
  },
  "language_info": {
   "codemirror_mode": {
    "name": "ipython",
    "version": 3
   },
   "file_extension": ".py",
   "mimetype": "text/x-python",
   "name": "python",
   "nbconvert_exporter": "python",
   "pygments_lexer": "ipython3",
   "version": "3.11.5"
  }
 },
 "nbformat": 4,
 "nbformat_minor": 5
}
